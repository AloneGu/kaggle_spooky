{
 "cells": [
  {
   "cell_type": "code",
   "execution_count": 1,
   "metadata": {
    "collapsed": true
   },
   "outputs": [],
   "source": [
    "# Importing the libraries\n",
    "import numpy as np\n",
    "import pandas as pd\n",
    "\n",
    "# Input data files\n",
    "train = pd.read_csv('./input/train.csv')\n",
    "test = pd.read_csv('./input/test.csv')\n",
    "submiss=pd.read_csv(\"./input/sample_submission.csv\")\n",
    "\n",
    "X_Train=train['text'].str.replace('[^a-zA-Z0-9]', ' ')\n",
    "y_train=train['author']\n",
    "X_Test=test['text'].str.replace('[^a-zA-Z0-9]', ' ')"
   ]
  },
  {
   "cell_type": "code",
   "execution_count": 5,
   "metadata": {},
   "outputs": [
    {
     "name": "stdout",
     "output_type": "stream",
     "text": [
      "Fitting 5 folds for each of 18 candidates, totalling 90 fits\n"
     ]
    },
    {
     "name": "stderr",
     "output_type": "stream",
     "text": [
      "[Parallel(n_jobs=-1)]: Done  34 tasks      | elapsed:   30.5s\n",
      "[Parallel(n_jobs=-1)]: Done  90 out of  90 | elapsed:  1.7min finished\n"
     ]
    },
    {
     "name": "stdout",
     "output_type": "stream",
     "text": [
      "\tclf__alpha: 0.025\n",
      "\tvect__max_df: 0.75\n",
      "\tvect__min_df: 1\n",
      "\tvect__ngram_range: (1, 2)\n"
     ]
    }
   ],
   "source": [
    "## Multinomial Naive Bayes Classifier ##\n",
    "# Build pipeline\n",
    "from sklearn.feature_extraction.text import CountVectorizer, TfidfTransformer\n",
    "from sklearn.naive_bayes import MultinomialNB\n",
    "from sklearn.pipeline import Pipeline\n",
    "classifier = Pipeline([('vect', CountVectorizer(lowercase=False)),\n",
    "                      ('tfidf', TfidfTransformer()),\n",
    "                      ('clf', MultinomialNB()),\n",
    "])\n",
    "\n",
    "# parameter tuning with grid search\n",
    "from sklearn.model_selection import GridSearchCV\n",
    "parameters = {'vect__ngram_range': [(1, 2)],\n",
    "              'vect__max_df': ( 0.75,0.8,0.85),\n",
    "              'vect__min_df': (1,2),    \n",
    "              'clf__alpha': ( 0.024,0.025, 0.026),\n",
    "}\n",
    "gs_clf = GridSearchCV(classifier, parameters,n_jobs=-1, verbose=1,cv=5)\n",
    "gs_clf.fit(X_Train, y_train)\n",
    "best_parameters = gs_clf.best_estimator_.get_params()\n",
    "for param_name in sorted(parameters.keys()):\n",
    "    print(\"\\t%s: %r\" % (param_name, best_parameters[param_name]))\n",
    "\n",
    "# Predicting the Test set results\n",
    "y_pred_proba = gs_clf.predict_proba(X_Test)\n",
    "y_pred_proba = np.round(y_pred_proba,4)\n",
    "\n",
    "# pre best\n",
    "# clf__alpha: 0.025\n",
    "# \tvect__max_df: 0.8\n",
    "# \tvect__min_df: 1\n",
    "# \tvect__ngram_range: (1, 2)"
   ]
  },
  {
   "cell_type": "code",
   "execution_count": 8,
   "metadata": {},
   "outputs": [
    {
     "data": {
      "text/html": [
       "<div>\n",
       "<table border=\"1\" class=\"dataframe\">\n",
       "  <thead>\n",
       "    <tr style=\"text-align: right;\">\n",
       "      <th></th>\n",
       "      <th>id</th>\n",
       "      <th>EAP</th>\n",
       "      <th>HPL</th>\n",
       "      <th>MWS</th>\n",
       "    </tr>\n",
       "  </thead>\n",
       "  <tbody>\n",
       "    <tr>\n",
       "      <th>0</th>\n",
       "      <td>id02310</td>\n",
       "      <td>0.0645</td>\n",
       "      <td>0.0049</td>\n",
       "      <td>0.9305</td>\n",
       "    </tr>\n",
       "    <tr>\n",
       "      <th>1</th>\n",
       "      <td>id24541</td>\n",
       "      <td>0.9614</td>\n",
       "      <td>0.0299</td>\n",
       "      <td>0.0087</td>\n",
       "    </tr>\n",
       "    <tr>\n",
       "      <th>2</th>\n",
       "      <td>id00134</td>\n",
       "      <td>0.0133</td>\n",
       "      <td>0.9816</td>\n",
       "      <td>0.0051</td>\n",
       "    </tr>\n",
       "    <tr>\n",
       "      <th>3</th>\n",
       "      <td>id27757</td>\n",
       "      <td>0.7220</td>\n",
       "      <td>0.2706</td>\n",
       "      <td>0.0074</td>\n",
       "    </tr>\n",
       "    <tr>\n",
       "      <th>4</th>\n",
       "      <td>id04081</td>\n",
       "      <td>0.6571</td>\n",
       "      <td>0.2492</td>\n",
       "      <td>0.0937</td>\n",
       "    </tr>\n",
       "    <tr>\n",
       "      <th>5</th>\n",
       "      <td>id27337</td>\n",
       "      <td>0.9871</td>\n",
       "      <td>0.0126</td>\n",
       "      <td>0.0003</td>\n",
       "    </tr>\n",
       "    <tr>\n",
       "      <th>6</th>\n",
       "      <td>id24265</td>\n",
       "      <td>0.9716</td>\n",
       "      <td>0.0184</td>\n",
       "      <td>0.0100</td>\n",
       "    </tr>\n",
       "    <tr>\n",
       "      <th>7</th>\n",
       "      <td>id25917</td>\n",
       "      <td>0.0067</td>\n",
       "      <td>0.0253</td>\n",
       "      <td>0.9680</td>\n",
       "    </tr>\n",
       "    <tr>\n",
       "      <th>8</th>\n",
       "      <td>id04951</td>\n",
       "      <td>0.9948</td>\n",
       "      <td>0.0052</td>\n",
       "      <td>0.0001</td>\n",
       "    </tr>\n",
       "    <tr>\n",
       "      <th>9</th>\n",
       "      <td>id14549</td>\n",
       "      <td>0.6021</td>\n",
       "      <td>0.2457</td>\n",
       "      <td>0.1522</td>\n",
       "    </tr>\n",
       "  </tbody>\n",
       "</table>\n",
       "</div>"
      ],
      "text/plain": [
       "        id     EAP     HPL     MWS\n",
       "0  id02310  0.0645  0.0049  0.9305\n",
       "1  id24541  0.9614  0.0299  0.0087\n",
       "2  id00134  0.0133  0.9816  0.0051\n",
       "3  id27757  0.7220  0.2706  0.0074\n",
       "4  id04081  0.6571  0.2492  0.0937\n",
       "5  id27337  0.9871  0.0126  0.0003\n",
       "6  id24265  0.9716  0.0184  0.0100\n",
       "7  id25917  0.0067  0.0253  0.9680\n",
       "8  id04951  0.9948  0.0052  0.0001\n",
       "9  id14549  0.6021  0.2457  0.1522"
      ]
     },
     "execution_count": 8,
     "metadata": {},
     "output_type": "execute_result"
    }
   ],
   "source": [
    "submiss['EAP']=y_pred_proba[:,0]\n",
    "submiss['HPL']=y_pred_proba[:,1]\n",
    "submiss['MWS']=y_pred_proba[:,2]\n",
    "submiss.to_csv(\"results/res.csv\",index=False)\n",
    "submiss.head(10)"
   ]
  },
  {
   "cell_type": "code",
   "execution_count": 7,
   "metadata": {},
   "outputs": [
    {
     "name": "stdout",
     "output_type": "stream",
     "text": [
      "score 0.00862477167538\n"
     ]
    }
   ],
   "source": [
    "from sklearn.metrics import log_loss\n",
    "y_train_pred_prob = gs_clf.predict_proba(X_Train)\n",
    "y_train_pred_prob = np.round(y_train_pred_prob,4)\n",
    "print('score',log_loss(y_train,y_train_pred_prob))"
   ]
  }
 ],
 "metadata": {
  "kernelspec": {
   "display_name": "Python 3",
   "language": "python",
   "name": "python3"
  },
  "language_info": {
   "codemirror_mode": {
    "name": "ipython",
    "version": 3
   },
   "file_extension": ".py",
   "mimetype": "text/x-python",
   "name": "python",
   "nbconvert_exporter": "python",
   "pygments_lexer": "ipython3",
   "version": "3.5.2"
  }
 },
 "nbformat": 4,
 "nbformat_minor": 2
}
