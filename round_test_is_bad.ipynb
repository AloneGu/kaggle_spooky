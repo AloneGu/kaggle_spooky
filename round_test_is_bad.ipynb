{
 "cells": [
  {
   "cell_type": "code",
   "execution_count": 2,
   "metadata": {},
   "outputs": [
    {
     "name": "stdout",
     "output_type": "stream",
     "text": [
      "        id     EAP     HPL     MWS\n",
      "0  id02310  0.0124  0.0020  0.9855\n",
      "1  id24541  0.9989  0.0005  0.0007\n",
      "2  id00134  0.0021  0.9972  0.0007\n",
      "3  id27757  0.8844  0.1120  0.0035\n",
      "4  id04081  0.7542  0.1365  0.1093\n"
     ]
    }
   ],
   "source": [
    "import pandas as pd\n",
    "df = pd.read_csv('results/xgb_res_5_True.csv')\n",
    "print(df.head())"
   ]
  },
  {
   "cell_type": "code",
   "execution_count": 5,
   "metadata": {},
   "outputs": [
    {
     "name": "stdout",
     "output_type": "stream",
     "text": [
      "        id  EAP  HPL  MWS\n",
      "0  id02310  0.0  0.0  1.0\n",
      "1  id24541  1.0  0.0  0.0\n",
      "2  id00134  0.0  1.0  0.0\n",
      "3  id27757  1.0  0.0  0.0\n",
      "4  id04081  1.0  0.0  0.0\n"
     ]
    }
   ],
   "source": [
    "df[['EAP','HPL','MWS']] = df[['EAP','HPL','MWS']].values.round()\n",
    "print(df.head())\n",
    "df.to_csv('results/xgb_res_5_True_round.csv',index=False)"
   ]
  }
 ],
 "metadata": {
  "kernelspec": {
   "display_name": "Python 3",
   "language": "python",
   "name": "python3"
  },
  "language_info": {
   "codemirror_mode": {
    "name": "ipython",
    "version": 3
   },
   "file_extension": ".py",
   "mimetype": "text/x-python",
   "name": "python",
   "nbconvert_exporter": "python",
   "pygments_lexer": "ipython3",
   "version": "3.5.2"
  }
 },
 "nbformat": 4,
 "nbformat_minor": 2
}
